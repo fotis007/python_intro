{
 "cells": [
  {
   "cell_type": "markdown",
   "metadata": {},
   "source": [
    "# Wiederholen und Vertiefen\n",
    "Nachdem Sie die Grundbegriffe gelernt haben, wollen Sie wahrscheinlich (hoffentlich!) weitermachen. Da man auch beim Programmieren vor allem durch Übung besser wird, sollten Sie jede Gelegenheit dazu nutzen. "
   ]
  },
  {
   "cell_type": "markdown",
   "metadata": {},
   "source": [
    "## Bücher\n",
    "Gute Bücher, um den Stoff dieses Einführungsseminars auf eine gute Grundlage zu stellen, sind diese beiden Titel (leider beide auf Englisch):\n",
    "\n",
    "* John Zelle: Python Programming. An Introduction to Computer Science. Wilsonville, Oregon 2010. <br/>\n",
    "[Sehr solide Einführung, die sich darum bemüht, anhand von Python grundlegende Denkformen des Programmierens zu vermitteln.]\n",
    "\n",
    "* John Guttag: Introduction to Computation and Programming Using Python. Cambriddge, M.A. 2013<br/> [Ebenfalls sehr gute  Einführung mit Blick auf grundlegende Konzepte. ]"
   ]
  },
  {
   "cell_type": "markdown",
   "metadata": {},
   "source": [
    "## Videos\n",
    "Da heute viele Leute lieber mit Videos als mit Büchern lernen, hier einige Hinweise:\n",
    "* Guttags Einführung gibt es auch als eine Serie von Youtube-Videos. Meiner kurzen Erfahrung nach ist das Buch angenehmer zu lesen, aber das mag für Sie anders sein. \n",
    "[https://www.youtube.com/watch?v=bX3jvD7XFPs&list=PL0A0EAB2AFE108526 videos]\n",
    "* Eine deutschsprachige Einführung gibt es auch ([https://www.youtube.com/playlist?list=PLNmsVeXQZj7q0ao69AIogD94oBgp3E9Zs Videos]), allerdings - so das Ergebnis einiger Minuten - sehr viel oberflächlicher, wenn auch sehr ausführlich. "
   ]
  },
  {
   "cell_type": "markdown",
   "metadata": {},
   "source": [
    "## Online-Kurse\n",
    "Man kann online gute Python Kurse finden, die den Vorteil haben,  dass man sich den Lernstoff frei einteilen und seinem eigenen Lerntempo anpassen kann. \n",
    "* <a href:\"https://www.codecademy.com/\">Codecademy</a> ist wahrscheinlich der bekannteste Anbieter von kostenlosen Online-Kursen. Habe mir mal die ersten Lektionen für Python angesehen und habe einen guten Eindruck gehabt."
   ]
  },
  {
   "cell_type": "markdown",
   "metadata": {},
   "source": [
    "# Weiterlernen"
   ]
  },
  {
   "cell_type": "markdown",
   "metadata": {},
   "source": [
    "## Bücher\n",
    "* Robert Sedgewick, Kevin Wayne, Robert Dondero: Introduction into programming in Python. An Interdisciplinary Approach. Ann Arbor 2015.\n",
    "Tiefgehende Einführung und deutlich mehr. Vorteil ist, dass man viele basale Konzepte vermittelt bekommt; ein nachteil ist, dass sie aus pädagogischen Gründen sehr stark  auf eigene Bibliotheken setzen."
   ]
  },
  {
   "cell_type": "markdown",
   "metadata": {},
   "source": [
    "## Videos\n",
    "* Umfangreiche Sammlung von Python Videos auf <a href=\"http://pyvideo.org/\">Pyvideo.org</a>. Dort finden sich auch Links zu den großen internationalen und nationalen Python Konferenzen Pycon. "
   ]
  },
  {
   "cell_type": "markdown",
   "metadata": {},
   "source": [
    "## Online\n",
    "Um das Programmieren mit Python zu üben, gibt es viele Möglichkeiten im Netz. \n",
    "* <a href=\"https://py.checkio.org/\">checkio</a> hat interessante Programmieraufgaben von sehr einfach bis sehr schwer. Recht motivierend und mit viel Hilfe bei Problemen. \n",
    "* <a href=\"http://www.pythonchallenge.com/\">Python Challenge</a> Sehr schon gemachte Serie von Aufgaben, die man mit Python lösen kann. Ausführliche Diskussion von Lösungswegen. Nicht für Anfänger gemacht, aber mit etwas Programmiererfahrung ein ziemlicher Spass. \n",
    "* Das <a href=\"https://projecteuler.net/\">Projekt Euler</a> ist ausgesprochen interessant, da es hier vor allem um die Verbesserung der mathematischen Lösungen für Probleme gibt´, die man auch mit Hilfe von Programmen lösen kann. Versteht man die mathematischen Ansätze, dann kann man auch bessere udn effizientere Programme schreiben."
   ]
  }
 ],
 "metadata": {
  "kernelspec": {
   "display_name": "Python 3",
   "language": "python",
   "name": "python3"
  },
  "language_info": {
   "codemirror_mode": {
    "name": "ipython",
    "version": 3
   },
   "file_extension": ".py",
   "mimetype": "text/x-python",
   "name": "python",
   "nbconvert_exporter": "python",
   "pygments_lexer": "ipython3",
   "version": "3.4.4"
  }
 },
 "nbformat": 4,
 "nbformat_minor": 0
}
